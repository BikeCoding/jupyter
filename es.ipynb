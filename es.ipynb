import pandas as pd

df = pd.read_csv("2020_04_18.csv")

df[['Data','Municipio']][df['Data'] == '2020-04-18'].groupby(['Municipio'])['Municipio'].count()
