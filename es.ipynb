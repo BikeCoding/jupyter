import pandas as pd

df = pd.read_csv("microdados.csv")

df[['Data','Municipio']][df['Data'] == '2020-04-18'].groupby(['Municipio'])['Municipio'].count()
